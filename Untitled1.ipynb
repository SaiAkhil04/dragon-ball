{
  "nbformat": 4,
  "nbformat_minor": 0,
  "metadata": {
    "colab": {
      "provenance": []
    },
    "kernelspec": {
      "name": "python3",
      "display_name": "Python 3"
    },
    "language_info": {
      "name": "python"
    }
  },
  "cells": [
    {
      "cell_type": "markdown",
      "source": [
        "TITLE OF THE PROJECT:\n",
        "HAND WRITTEN DIGIT PREDICTION-CLASSIFICATIOIN ANALYSIS"
      ],
      "metadata": {
        "id": "toQ0dW5YC0NM"
      }
    },
    {
      "cell_type": "markdown",
      "source": [
        "DATA SOURCE:\n",
        "The digits dataset consists of 8x8 pixel images of digits The images attribute of the dataset stores 8x8 arrays of grayscale values for each\n",
        "image. We will use these arrays to visualize the first 4 images. The target attribute of the dataset stores the digit each image represents\n",
        "\n"
      ],
      "metadata": {
        "id": "8TYg9beVDG2h"
      }
    },
    {
      "cell_type": "markdown",
      "source": [
        "Import Library"
      ],
      "metadata": {
        "id": "RDOlwxN1DXp7"
      }
    },
    {
      "cell_type": "code",
      "source": [
        "import pandas as pd"
      ],
      "metadata": {
        "id": "-lTwCbV5Dfln"
      },
      "execution_count": null,
      "outputs": []
    },
    {
      "cell_type": "code",
      "source": [
        "import numpy as np"
      ],
      "metadata": {
        "id": "sFstd9rQDleJ"
      },
      "execution_count": null,
      "outputs": []
    },
    {
      "cell_type": "code",
      "source": [
        "import matplotlib.pyplot as plt"
      ],
      "metadata": {
        "id": "iQetsgBeDqSs"
      },
      "execution_count": null,
      "outputs": []
    },
    {
      "cell_type": "markdown",
      "source": [
        "Import Data"
      ],
      "metadata": {
        "id": "5PkySBcvDyNG"
      }
    },
    {
      "cell_type": "code",
      "source": [
        "from sklearn.datasets import load_digits"
      ],
      "metadata": {
        "id": "i23kUPPdD1Kw"
      },
      "execution_count": null,
      "outputs": []
    },
    {
      "cell_type": "code",
      "source": [
        "df=load_digits()"
      ],
      "metadata": {
        "id": "3P3So3axD_pP"
      },
      "execution_count": null,
      "outputs": []
    },
    {
      "cell_type": "code",
      "source": [
        "_, axes = plt.subplots(nrows=1, ncols=4, figsize=(10,3))\n",
        "for ax,image,label in zip(axes, df.images, df.target):\n",
        "    ax.set_axis_off()\n",
        "    ax.imshow(image,cmap=plt.cm.gray_r,interpolation=\"nearest\")\n",
        "    ax.set_title(\"Training: %i\" %label)"
      ],
      "metadata": {
        "colab": {
          "base_uri": "https://localhost:8080/",
          "height": 209
        },
        "id": "tveHRMuVEHex",
        "outputId": "8ee799ef-4144-4a65-8910-226ca3fbfc5c"
      },
      "execution_count": null,
      "outputs": [
        {
          "output_type": "display_data",
          "data": {
            "text/plain": [
              "<Figure size 1000x300 with 4 Axes>"
            ],
            "image/png": "[encoded data removed]"
          },
          "metadata": {}
        }
      ]
    },
    {
      "cell_type": "markdown",
      "source": [
        "Data Preprocessing"
      ],
      "metadata": {
        "id": "IFK9lcMKGGmh"
      }
    },
    {
      "cell_type": "markdown",
      "source": [
        "Flatten Images"
      ],
      "metadata": {
        "id": "c6phiRKoGVqE"
      }
    },
    {
      "cell_type": "code",
      "source": [
        "df.images.shape"
      ],
      "metadata": {
        "colab": {
          "base_uri": "https://localhost:8080/"
        },
        "id": "esDtLLoOG1Pu",
        "outputId": "94c4c423-4be1-4d07-ea55-d4d7861d9644"
      },
      "execution_count": null,
      "outputs": [
        {
          "output_type": "execute_result",
          "data": {
            "text/plain": [
              "(1797, 8, 8)"
            ]
          },
          "metadata": {},
          "execution_count": 27
        }
      ]
    },
    {
      "cell_type": "code",
      "source": [
        "df.images[0]"
      ],
      "metadata": {
        "colab": {
          "base_uri": "https://localhost:8080/"
        },
        "id": "p_qdi_-XG6Xy",
        "outputId": "0a2db42f-7ef4-4efd-de67-f12a1999b2c9"
      },
      "execution_count": null,
      "outputs": [
        {
          "output_type": "execute_result",
          "data": {
            "text/plain": [
              "array([[ 0.,  0.,  5., 13.,  9.,  1.,  0.,  0.],\n",
              "       [ 0.,  0., 13., 15., 10., 15.,  5.,  0.],\n",
              "       [ 0.,  3., 15.,  2.,  0., 11.,  8.,  0.],\n",
              "       [ 0.,  4., 12.,  0.,  0.,  8.,  8.,  0.],\n",
              "       [ 0.,  5.,  8.,  0.,  0.,  9.,  8.,  0.],\n",
              "       [ 0.,  4., 11.,  0.,  1., 12.,  7.,  0.],\n",
              "       [ 0.,  2., 14.,  5., 10., 12.,  0.,  0.],\n",
              "       [ 0.,  0.,  6., 13., 10.,  0.,  0.,  0.]])"
            ]
          },
          "metadata": {},
          "execution_count": 28
        }
      ]
    },
    {
      "cell_type": "code",
      "source": [
        "df.images[0].shape"
      ],
      "metadata": {
        "colab": {
          "base_uri": "https://localhost:8080/"
        },
        "id": "KmlrPZ5wG_RL",
        "outputId": "8f9d1950-d598-4ae2-d395-625d686d8e2e"
      },
      "execution_count": null,
      "outputs": [
        {
          "output_type": "execute_result",
          "data": {
            "text/plain": [
              "(8, 8)"
            ]
          },
          "metadata": {},
          "execution_count": 29
        }
      ]
    },
    {
      "cell_type": "code",
      "source": [
        "len(df.images)"
      ],
      "metadata": {
        "colab": {
          "base_uri": "https://localhost:8080/"
        },
        "id": "xnu9lC6ZHGAm",
        "outputId": "5bfbc622-3484-4477-9ace-2aad84537dbc"
      },
      "execution_count": null,
      "outputs": [
        {
          "output_type": "execute_result",
          "data": {
            "text/plain": [
              "1797"
            ]
          },
          "metadata": {},
          "execution_count": 30
        }
      ]
    },
    {
      "cell_type": "code",
      "source": [
        "n_samples = len(df.images)\n",
        "data =df.images.reshape((n_samples, -1))"
      ],
      "metadata": {
        "id": "azyIaPOgHJ96"
      },
      "execution_count": null,
      "outputs": []
    },
    {
      "cell_type": "code",
      "source": [
        "data[0]"
      ],
      "metadata": {
        "colab": {
          "base_uri": "https://localhost:8080/"
        },
        "id": "7u-0JEvLHYBm",
        "outputId": "5619da25-c51b-446a-a3a5-445dfc66b2ab"
      },
      "execution_count": null,
      "outputs": [
        {
          "output_type": "execute_result",
          "data": {
            "text/plain": [
              "array([ 0.,  0.,  5., 13.,  9.,  1.,  0.,  0.,  0.,  0., 13., 15., 10.,\n",
              "       15.,  5.,  0.,  0.,  3., 15.,  2.,  0., 11.,  8.,  0.,  0.,  4.,\n",
              "       12.,  0.,  0.,  8.,  8.,  0.,  0.,  5.,  8.,  0.,  0.,  9.,  8.,\n",
              "        0.,  0.,  4., 11.,  0.,  1., 12.,  7.,  0.,  0.,  2., 14.,  5.,\n",
              "       10., 12.,  0.,  0.,  0.,  0.,  6., 13., 10.,  0.,  0.,  0.])"
            ]
          },
          "metadata": {},
          "execution_count": 32
        }
      ]
    },
    {
      "cell_type": "code",
      "source": [
        "data[0].shape"
      ],
      "metadata": {
        "colab": {
          "base_uri": "https://localhost:8080/"
        },
        "id": "BbD0LrZCHahj",
        "outputId": "02ac573a-1746-4749-d363-ff04f16ef041"
      },
      "execution_count": null,
      "outputs": [
        {
          "output_type": "execute_result",
          "data": {
            "text/plain": [
              "(64,)"
            ]
          },
          "metadata": {},
          "execution_count": 33
        }
      ]
    },
    {
      "cell_type": "code",
      "source": [
        "data.shape"
      ],
      "metadata": {
        "colab": {
          "base_uri": "https://localhost:8080/"
        },
        "id": "bvByCipbHhDN",
        "outputId": "9373c81e-dd8b-4a33-a1ef-cfb5b1212f46"
      },
      "execution_count": null,
      "outputs": [
        {
          "output_type": "execute_result",
          "data": {
            "text/plain": [
              "(1797, 64)"
            ]
          },
          "metadata": {},
          "execution_count": 34
        }
      ]
    },
    {
      "cell_type": "markdown",
      "source": [
        "Scaling Image Data"
      ],
      "metadata": {
        "id": "YIfWh-JqHkH_"
      }
    },
    {
      "cell_type": "code",
      "source": [
        "data.min()"
      ],
      "metadata": {
        "colab": {
          "base_uri": "https://localhost:8080/"
        },
        "id": "_qS6M_KzHpQO",
        "outputId": "9acc5717-34cb-4a47-e597-7313bf797904"
      },
      "execution_count": null,
      "outputs": [
        {
          "output_type": "execute_result",
          "data": {
            "text/plain": [
              "0.0"
            ]
          },
          "metadata": {},
          "execution_count": 35
        }
      ]
    },
    {
      "cell_type": "code",
      "source": [
        "data.max()"
      ],
      "metadata": {
        "colab": {
          "base_uri": "https://localhost:8080/"
        },
        "id": "5v1qkhb4Hrzh",
        "outputId": "615f2f78-3ae2-4df5-87ae-aab85eb249f7"
      },
      "execution_count": null,
      "outputs": [
        {
          "output_type": "execute_result",
          "data": {
            "text/plain": [
              "16.0"
            ]
          },
          "metadata": {},
          "execution_count": 36
        }
      ]
    },
    {
      "cell_type": "code",
      "source": [
        "data=data/16"
      ],
      "metadata": {
        "id": "PQcbhmAQHuVe"
      },
      "execution_count": null,
      "outputs": []
    },
    {
      "cell_type": "code",
      "source": [
        "data.min()"
      ],
      "metadata": {
        "colab": {
          "base_uri": "https://localhost:8080/"
        },
        "id": "yoG163ATHw_R",
        "outputId": "d171b1e4-b4ef-4b08-e69b-feac21ba7448"
      },
      "execution_count": null,
      "outputs": [
        {
          "output_type": "execute_result",
          "data": {
            "text/plain": [
              "0.0"
            ]
          },
          "metadata": {},
          "execution_count": 38
        }
      ]
    },
    {
      "cell_type": "code",
      "source": [
        "data.max()"
      ],
      "metadata": {
        "colab": {
          "base_uri": "https://localhost:8080/"
        },
        "id": "2L7JzGa1HzkG",
        "outputId": "2a2db35a-bc41-4d96-8c05-b8108ad3ef6c"
      },
      "execution_count": null,
      "outputs": [
        {
          "output_type": "execute_result",
          "data": {
            "text/plain": [
              "1.0"
            ]
          },
          "metadata": {},
          "execution_count": 39
        }
      ]
    },
    {
      "cell_type": "code",
      "source": [
        "data[0]"
      ],
      "metadata": {
        "colab": {
          "base_uri": "https://localhost:8080/"
        },
        "id": "C8ZYS2yEH6Rh",
        "outputId": "7f132334-de77-4bd2-97ad-2c20b89e94d4"
      },
      "execution_count": null,
      "outputs": [
        {
          "output_type": "execute_result",
          "data": {
            "text/plain": [
              "array([0.    , 0.    , 0.3125, 0.8125, 0.5625, 0.0625, 0.    , 0.    ,\n",
              "       0.    , 0.    , 0.8125, 0.9375, 0.625 , 0.9375, 0.3125, 0.    ,\n",
              "       0.    , 0.1875, 0.9375, 0.125 , 0.    , 0.6875, 0.5   , 0.    ,\n",
              "       0.    , 0.25  , 0.75  , 0.    , 0.    , 0.5   , 0.5   , 0.    ,\n",
              "       0.    , 0.3125, 0.5   , 0.    , 0.    , 0.5625, 0.5   , 0.    ,\n",
              "       0.    , 0.25  , 0.6875, 0.    , 0.0625, 0.75  , 0.4375, 0.    ,\n",
              "       0.    , 0.125 , 0.875 , 0.3125, 0.625 , 0.75  , 0.    , 0.    ,\n",
              "       0.    , 0.    , 0.375 , 0.8125, 0.625 , 0.    , 0.    , 0.    ])"
            ]
          },
          "metadata": {},
          "execution_count": 40
        }
      ]
    },
    {
      "cell_type": "code",
      "source": [],
      "metadata": {
        "id": "DN-EtfQqH757"
      },
      "execution_count": null,
      "outputs": []
    },
    {
      "cell_type": "markdown",
      "source": [
        "Train Test Split Data"
      ],
      "metadata": {
        "id": "YcbjZmTUH86e"
      }
    },
    {
      "cell_type": "code",
      "source": [
        "from sklearn.model_selection import train_test_split"
      ],
      "metadata": {
        "id": "oBYXvJtvIHKb"
      },
      "execution_count": null,
      "outputs": []
    },
    {
      "cell_type": "code",
      "source": [
        "x_train,x_test,y_train,y_test =train_test_split(data,df.target,test_size=0.3)"
      ],
      "metadata": {
        "id": "nlwpAkx7IQiH"
      },
      "execution_count": null,
      "outputs": []
    },
    {
      "cell_type": "code",
      "source": [
        "x_train.shape,x_test.shape,y_train.shape,y_test.shape"
      ],
      "metadata": {
        "colab": {
          "base_uri": "https://localhost:8080/"
        },
        "id": "KYmtCF3ZIhPu",
        "outputId": "363b4c0e-a10d-4eec-9830-c1b89982f1f2"
      },
      "execution_count": null,
      "outputs": [
        {
          "output_type": "execute_result",
          "data": {
            "text/plain": [
              "((1257, 64), (540, 64), (1257,), (540,))"
            ]
          },
          "metadata": {},
          "execution_count": 43
        }
      ]
    },
    {
      "cell_type": "markdown",
      "source": [
        "Random Forest Model"
      ],
      "metadata": {
        "id": "DdJSlDwhIt1u"
      }
    },
    {
      "cell_type": "code",
      "source": [
        "from sklearn.ensemble import RandomForestClassifier"
      ],
      "metadata": {
        "id": "y3gP0qaQI01M"
      },
      "execution_count": null,
      "outputs": []
    },
    {
      "cell_type": "code",
      "source": [
        "rf= RandomForestClassifier()"
      ],
      "metadata": {
        "id": "P5aIn_DNJAD5"
      },
      "execution_count": null,
      "outputs": []
    },
    {
      "cell_type": "code",
      "source": [
        "rf.fit(x_train ,y_train)\n",
        "RandomForestClassifier()"
      ],
      "metadata": {
        "id": "-Jt_-5xlJE4T"
      },
      "execution_count": null,
      "outputs": []
    },
    {
      "cell_type": "markdown",
      "source": [
        "Predict Test Data"
      ],
      "metadata": {
        "id": "uPZdgn47Js7n"
      }
    },
    {
      "cell_type": "code",
      "source": [
        "y_pred =rf.predict(x_test)"
      ],
      "metadata": {
        "id": "fXx-vj1RJ0Th"
      },
      "execution_count": null,
      "outputs": []
    },
    {
      "cell_type": "code",
      "source": [
        "y_pred"
      ],
      "metadata": {
        "id": "ffy1cRvlJ5-O",
        "colab": {
          "base_uri": "https://localhost:8080/"
        },
        "outputId": "5f1898e8-4a54-44e6-ed4a-15094c6ac72b"
      },
      "execution_count": null,
      "outputs": [
        {
          "output_type": "execute_result",
          "data": {
            "text/plain": [
              "array([2, 7, 2, 1, 6, 8, 5, 5, 4, 1, 8, 3, 5, 7, 4, 3, 1, 5, 1, 5, 0, 4,\n",
              "       0, 3, 3, 3, 0, 9, 0, 8, 4, 0, 1, 2, 0, 8, 2, 1, 4, 3, 9, 4, 6, 4,\n",
              "       9, 3, 0, 7, 1, 8, 2, 6, 8, 7, 9, 9, 3, 6, 0, 1, 6, 0, 4, 7, 9, 0,\n",
              "       8, 1, 2, 6, 3, 4, 5, 8, 0, 0, 1, 4, 8, 6, 5, 1, 1, 0, 1, 0, 9, 8,\n",
              "       1, 4, 6, 6, 2, 3, 4, 3, 7, 1, 7, 3, 5, 1, 4, 7, 7, 0, 4, 4, 3, 2,\n",
              "       4, 9, 4, 7, 4, 5, 3, 9, 4, 4, 7, 9, 5, 6, 7, 9, 4, 9, 5, 4, 9, 9,\n",
              "       2, 6, 2, 1, 7, 4, 4, 8, 3, 1, 1, 8, 5, 5, 4, 5, 1, 8, 4, 6, 0, 5,\n",
              "       6, 2, 6, 6, 4, 9, 1, 4, 1, 9, 4, 7, 0, 6, 1, 1, 5, 5, 9, 0, 5, 3,\n",
              "       0, 0, 1, 4, 2, 7, 0, 9, 8, 6, 2, 9, 7, 7, 7, 7, 3, 3, 0, 3, 3, 5,\n",
              "       4, 5, 1, 3, 4, 1, 5, 8, 2, 5, 1, 6, 1, 5, 8, 0, 7, 9, 6, 7, 5, 2,\n",
              "       9, 2, 5, 3, 5, 5, 6, 0, 5, 8, 7, 6, 0, 1, 2, 8, 2, 2, 5, 3, 2, 6,\n",
              "       4, 9, 2, 6, 5, 6, 8, 7, 9, 8, 1, 0, 8, 6, 0, 7, 0, 2, 6, 5, 0, 1,\n",
              "       5, 3, 1, 9, 1, 6, 3, 5, 7, 5, 9, 7, 9, 1, 5, 4, 9, 2, 1, 6, 9, 0,\n",
              "       9, 0, 1, 5, 7, 7, 0, 4, 5, 8, 4, 3, 7, 4, 2, 0, 3, 9, 8, 0, 1, 6,\n",
              "       5, 3, 9, 0, 7, 7, 0, 2, 2, 9, 5, 2, 5, 6, 8, 1, 6, 5, 4, 7, 4, 2,\n",
              "       8, 9, 4, 3, 4, 5, 4, 2, 3, 1, 1, 0, 8, 1, 7, 8, 8, 2, 1, 8, 1, 3,\n",
              "       9, 6, 7, 9, 1, 6, 3, 9, 0, 6, 8, 7, 4, 0, 2, 1, 0, 6, 6, 0, 4, 6,\n",
              "       9, 2, 5, 1, 5, 0, 7, 3, 5, 9, 1, 3, 4, 6, 4, 6, 6, 8, 9, 5, 9, 7,\n",
              "       4, 6, 8, 6, 1, 3, 3, 3, 0, 6, 3, 0, 3, 6, 3, 0, 3, 2, 7, 9, 9, 3,\n",
              "       3, 1, 6, 6, 7, 8, 1, 8, 5, 7, 8, 7, 8, 1, 3, 2, 5, 4, 2, 2, 2, 1,\n",
              "       5, 5, 7, 1, 6, 8, 6, 2, 5, 4, 2, 9, 7, 7, 7, 0, 0, 6, 0, 7, 7, 1,\n",
              "       0, 1, 7, 0, 6, 5, 4, 3, 3, 0, 3, 2, 7, 6, 5, 9, 7, 2, 0, 7, 9, 5,\n",
              "       8, 5, 3, 1, 3, 8, 3, 8, 1, 2, 4, 2, 9, 8, 8, 5, 7, 6, 9, 0, 1, 6,\n",
              "       0, 7, 8, 4, 6, 8, 3, 3, 5, 1, 2, 8, 4, 9, 3, 3, 9, 0, 4, 4, 0, 0,\n",
              "       9, 4, 1, 6, 1, 3, 1, 9, 7, 8, 5, 7])"
            ]
          },
          "metadata": {},
          "execution_count": 53
        }
      ]
    },
    {
      "cell_type": "markdown",
      "source": [
        "Model Accuracy"
      ],
      "metadata": {
        "id": "aUWLCKxlKGXJ"
      }
    },
    {
      "cell_type": "code",
      "source": [
        "from sklearn.metrics import confusion_matrix,classification_report"
      ],
      "metadata": {
        "id": "kChUjxtkKJr6"
      },
      "execution_count": null,
      "outputs": []
    },
    {
      "cell_type": "code",
      "source": [
        "confusion_matrix(y_test,y_pred)"
      ],
      "metadata": {
        "id": "CSNCT2YZKUQ-",
        "colab": {
          "base_uri": "https://localhost:8080/"
        },
        "outputId": "b1ef6fb6-4688-4b34-8480-cb5d5621e705"
      },
      "execution_count": null,
      "outputs": [
        {
          "output_type": "execute_result",
          "data": {
            "text/plain": [
              "array([[57,  0,  0,  0,  0,  0,  0,  0,  0,  0],\n",
              "       [ 0, 61,  0,  0,  0,  0,  0,  0,  0,  0],\n",
              "       [ 0,  0, 44,  0,  0,  0,  0,  0,  0,  0],\n",
              "       [ 0,  0,  0, 54,  0,  2,  0,  0,  0,  0],\n",
              "       [ 0,  0,  0,  0, 56,  0,  0,  1,  0,  0],\n",
              "       [ 0,  0,  0,  0,  0, 55,  0,  0,  0,  0],\n",
              "       [ 0,  0,  0,  0,  0,  0, 55,  0,  0,  0],\n",
              "       [ 0,  0,  0,  0,  0,  0,  0, 53,  0,  0],\n",
              "       [ 0,  1,  0,  0,  0,  1,  0,  1, 45,  0],\n",
              "       [ 0,  1,  0,  1,  0,  0,  0,  0,  1, 51]])"
            ]
          },
          "metadata": {},
          "execution_count": 57
        }
      ]
    },
    {
      "cell_type": "code",
      "source": [
        "print(classification_report(y_test,y_pred))"
      ],
      "metadata": {
        "id": "aWSnZO_zKf1e",
        "colab": {
          "base_uri": "https://localhost:8080/"
        },
        "outputId": "cde63a7c-d323-416b-aeb9-a13e17c8787d"
      },
      "execution_count": null,
      "outputs": [
        {
          "output_type": "stream",
          "name": "stdout",
          "text": [
            "              precision    recall  f1-score   support\n",
            "\n",
            "           0       1.00      1.00      1.00        57\n",
            "           1       0.97      1.00      0.98        61\n",
            "           2       1.00      1.00      1.00        44\n",
            "           3       0.98      0.96      0.97        56\n",
            "           4       1.00      0.98      0.99        57\n",
            "           5       0.95      1.00      0.97        55\n",
            "           6       1.00      1.00      1.00        55\n",
            "           7       0.96      1.00      0.98        53\n",
            "           8       0.98      0.94      0.96        48\n",
            "           9       1.00      0.94      0.97        54\n",
            "\n",
            "    accuracy                           0.98       540\n",
            "   macro avg       0.98      0.98      0.98       540\n",
            "weighted avg       0.98      0.98      0.98       540\n",
            "\n"
          ]
        }
      ]
    }
  ]
}